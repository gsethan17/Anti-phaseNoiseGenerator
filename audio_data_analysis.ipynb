{
 "cells": [
  {
   "cell_type": "code",
   "execution_count": 1,
   "metadata": {},
   "outputs": [],
   "source": [
    "import pyaudio\n",
    "import struct\n",
    "import numpy as np\n",
    "import matplotlib.pyplot as plt\n",
    "%matplotlib tk\n",
    "\n",
    "p = pyaudio.PyAudio()\n",
    "info = p.get_default_input_device_info()\n",
    "\n",
    "CHUNK = 1024 * 4\n",
    "FORMAT = pyaudio.paInt16\n",
    "CHANNELS = 1\n",
    "RATE = info['defaultSampleRate']\n",
    "\n",
    "stream = p.open(\n",
    "    format = FORMAT,\n",
    "    channels = CHANNELS,\n",
    "    rate = int(RATE),\n",
    "    input = True,\n",
    "    output = True,\n",
    "    frames_per_buffer = CHUNK\n",
    "    )\n",
    "\n",
    "\n",
    "\n",
    "data = stream.read(CHUNK)\n",
    "\n",
    "# data convert from byte to int\n",
    "# length of read data is double of chunk.\n",
    "data_int = struct.unpack(str(2 * CHUNK) + 'B', data)\n",
    "\n",
    "data_int = np.array(data_int, dtype=np.int16) + 127  # dtype 'b' is integer 0 to 255, and '+127' is needed to set the center line\n",
    "data_int = data_int[::2]  # get the data every 2 step. skipping data.\n",
    "\n",
    "fig, ax = plt.subplots()\n",
    "ax.plot(data_int, '-')\n",
    "plt.show()\n"
   ]
  },
  {
   "cell_type": "code",
   "execution_count": 3,
   "metadata": {},
   "outputs": [
    {
     "ename": "TclError",
     "evalue": "",
     "output_type": "error",
     "traceback": [
      "\u001b[1;31m---------------------------------------------------------------------------\u001b[0m",
      "\u001b[1;31mTclError\u001b[0m                                  Traceback (most recent call last)",
      "\u001b[1;32mC:\\envs\\audio\\lib\\site-packages\\matplotlib\\backends\\_backend_tk.py\u001b[0m in \u001b[0;36mblit\u001b[1;34m(photoimage, aggimage, offsets, bbox)\u001b[0m\n\u001b[0;32m    112\u001b[0m     \u001b[1;32mtry\u001b[0m\u001b[1;33m:\u001b[0m\u001b[1;33m\u001b[0m\u001b[1;33m\u001b[0m\u001b[0m\n\u001b[1;32m--> 113\u001b[1;33m         \u001b[0mphotoimage\u001b[0m\u001b[1;33m.\u001b[0m\u001b[0mtk\u001b[0m\u001b[1;33m.\u001b[0m\u001b[0mcall\u001b[0m\u001b[1;33m(\u001b[0m\u001b[0m_blit_tcl_name\u001b[0m\u001b[1;33m,\u001b[0m \u001b[0margsid\u001b[0m\u001b[1;33m)\u001b[0m\u001b[1;33m\u001b[0m\u001b[1;33m\u001b[0m\u001b[0m\n\u001b[0m\u001b[0;32m    114\u001b[0m     \u001b[1;32mexcept\u001b[0m \u001b[0mtk\u001b[0m\u001b[1;33m.\u001b[0m\u001b[0mTclError\u001b[0m \u001b[1;32mas\u001b[0m \u001b[0me\u001b[0m\u001b[1;33m:\u001b[0m\u001b[1;33m\u001b[0m\u001b[1;33m\u001b[0m\u001b[0m\n",
      "\u001b[1;31mTclError\u001b[0m: invalid command name \"pyimage30\"",
      "\nDuring handling of the above exception, another exception occurred:\n",
      "\u001b[1;31mTclError\u001b[0m                                  Traceback (most recent call last)",
      "\u001b[1;32m<ipython-input-3-18ff3ee5b6ef>\u001b[0m in \u001b[0;36m<module>\u001b[1;34m\u001b[0m\n\u001b[0;32m     40\u001b[0m \u001b[1;33m\u001b[0m\u001b[0m\n\u001b[0;32m     41\u001b[0m     \u001b[0mline\u001b[0m\u001b[1;33m.\u001b[0m\u001b[0mset_ydata\u001b[0m\u001b[1;33m(\u001b[0m\u001b[0mdata_int\u001b[0m\u001b[1;33m)\u001b[0m\u001b[1;33m\u001b[0m\u001b[1;33m\u001b[0m\u001b[0m\n\u001b[1;32m---> 42\u001b[1;33m     \u001b[0mfig\u001b[0m\u001b[1;33m.\u001b[0m\u001b[0mcanvas\u001b[0m\u001b[1;33m.\u001b[0m\u001b[0mdraw\u001b[0m\u001b[1;33m(\u001b[0m\u001b[1;33m)\u001b[0m\u001b[1;33m\u001b[0m\u001b[1;33m\u001b[0m\u001b[0m\n\u001b[0m\u001b[0;32m     43\u001b[0m     \u001b[0mfig\u001b[0m\u001b[1;33m.\u001b[0m\u001b[0mcanvas\u001b[0m\u001b[1;33m.\u001b[0m\u001b[0mflush_events\u001b[0m\u001b[1;33m(\u001b[0m\u001b[1;33m)\u001b[0m\u001b[1;33m\u001b[0m\u001b[1;33m\u001b[0m\u001b[0m\n",
      "\u001b[1;32mC:\\envs\\audio\\lib\\site-packages\\matplotlib\\backends\\backend_tkagg.py\u001b[0m in \u001b[0;36mdraw\u001b[1;34m(self)\u001b[0m\n\u001b[0;32m      8\u001b[0m     \u001b[1;32mdef\u001b[0m \u001b[0mdraw\u001b[0m\u001b[1;33m(\u001b[0m\u001b[0mself\u001b[0m\u001b[1;33m)\u001b[0m\u001b[1;33m:\u001b[0m\u001b[1;33m\u001b[0m\u001b[1;33m\u001b[0m\u001b[0m\n\u001b[0;32m      9\u001b[0m         \u001b[0msuper\u001b[0m\u001b[1;33m(\u001b[0m\u001b[1;33m)\u001b[0m\u001b[1;33m.\u001b[0m\u001b[0mdraw\u001b[0m\u001b[1;33m(\u001b[0m\u001b[1;33m)\u001b[0m\u001b[1;33m\u001b[0m\u001b[1;33m\u001b[0m\u001b[0m\n\u001b[1;32m---> 10\u001b[1;33m         \u001b[0mself\u001b[0m\u001b[1;33m.\u001b[0m\u001b[0mblit\u001b[0m\u001b[1;33m(\u001b[0m\u001b[1;33m)\u001b[0m\u001b[1;33m\u001b[0m\u001b[1;33m\u001b[0m\u001b[0m\n\u001b[0m\u001b[0;32m     11\u001b[0m \u001b[1;33m\u001b[0m\u001b[0m\n\u001b[0;32m     12\u001b[0m     \u001b[1;32mdef\u001b[0m \u001b[0mblit\u001b[0m\u001b[1;33m(\u001b[0m\u001b[0mself\u001b[0m\u001b[1;33m,\u001b[0m \u001b[0mbbox\u001b[0m\u001b[1;33m=\u001b[0m\u001b[1;32mNone\u001b[0m\u001b[1;33m)\u001b[0m\u001b[1;33m:\u001b[0m\u001b[1;33m\u001b[0m\u001b[1;33m\u001b[0m\u001b[0m\n",
      "\u001b[1;32mC:\\envs\\audio\\lib\\site-packages\\matplotlib\\backends\\backend_tkagg.py\u001b[0m in \u001b[0;36mblit\u001b[1;34m(self, bbox)\u001b[0m\n\u001b[0;32m     12\u001b[0m     \u001b[1;32mdef\u001b[0m \u001b[0mblit\u001b[0m\u001b[1;33m(\u001b[0m\u001b[0mself\u001b[0m\u001b[1;33m,\u001b[0m \u001b[0mbbox\u001b[0m\u001b[1;33m=\u001b[0m\u001b[1;32mNone\u001b[0m\u001b[1;33m)\u001b[0m\u001b[1;33m:\u001b[0m\u001b[1;33m\u001b[0m\u001b[1;33m\u001b[0m\u001b[0m\n\u001b[0;32m     13\u001b[0m         _backend_tk.blit(self._tkphoto, self.renderer.buffer_rgba(),\n\u001b[1;32m---> 14\u001b[1;33m                          (0, 1, 2, 3), bbox=bbox)\n\u001b[0m\u001b[0;32m     15\u001b[0m \u001b[1;33m\u001b[0m\u001b[0m\n\u001b[0;32m     16\u001b[0m \u001b[1;33m\u001b[0m\u001b[0m\n",
      "\u001b[1;32mC:\\envs\\audio\\lib\\site-packages\\matplotlib\\backends\\_backend_tk.py\u001b[0m in \u001b[0;36mblit\u001b[1;34m(photoimage, aggimage, offsets, bbox)\u001b[0m\n\u001b[0;32m    116\u001b[0m             \u001b[1;32mraise\u001b[0m\u001b[1;33m\u001b[0m\u001b[1;33m\u001b[0m\u001b[0m\n\u001b[0;32m    117\u001b[0m         \u001b[0mphotoimage\u001b[0m\u001b[1;33m.\u001b[0m\u001b[0mtk\u001b[0m\u001b[1;33m.\u001b[0m\u001b[0mcreatecommand\u001b[0m\u001b[1;33m(\u001b[0m\u001b[0m_blit_tcl_name\u001b[0m\u001b[1;33m,\u001b[0m \u001b[0m_blit\u001b[0m\u001b[1;33m)\u001b[0m\u001b[1;33m\u001b[0m\u001b[1;33m\u001b[0m\u001b[0m\n\u001b[1;32m--> 118\u001b[1;33m         \u001b[0mphotoimage\u001b[0m\u001b[1;33m.\u001b[0m\u001b[0mtk\u001b[0m\u001b[1;33m.\u001b[0m\u001b[0mcall\u001b[0m\u001b[1;33m(\u001b[0m\u001b[0m_blit_tcl_name\u001b[0m\u001b[1;33m,\u001b[0m \u001b[0margsid\u001b[0m\u001b[1;33m)\u001b[0m\u001b[1;33m\u001b[0m\u001b[1;33m\u001b[0m\u001b[0m\n\u001b[0m\u001b[0;32m    119\u001b[0m \u001b[1;33m\u001b[0m\u001b[0m\n\u001b[0;32m    120\u001b[0m \u001b[1;33m\u001b[0m\u001b[0m\n",
      "\u001b[1;31mTclError\u001b[0m: "
     ]
    }
   ],
   "source": [
    "import pyaudio\n",
    "import struct\n",
    "import numpy as np\n",
    "import matplotlib.pyplot as plt\n",
    "%matplotlib tk\n",
    "\n",
    "p = pyaudio.PyAudio()\n",
    "info = p.get_default_input_device_info()\n",
    "\n",
    "CHUNK = 1024 * 4\n",
    "FORMAT = pyaudio.paInt16\n",
    "CHANNELS = 1\n",
    "RATE = info['defaultSampleRate']\n",
    "\n",
    "stream = p.open(\n",
    "    format = FORMAT,\n",
    "    channels = CHANNELS,\n",
    "    rate = int(RATE),\n",
    "    input = True,\n",
    "    output = True,\n",
    "    frames_per_buffer = CHUNK\n",
    "    )\n",
    "\n",
    "fig, ax = plt.subplots()\n",
    "x = np.arange(0, 2 * CHUNK, 2)\n",
    "line, = ax.plot(x, np.random.rand(CHUNK))\n",
    "\n",
    "ax.set_ylim(0, 255)\n",
    "ax.set_xlim(0, CHUNK)\n",
    "\n",
    "while True :\n",
    "    data = stream.read(CHUNK)\n",
    "\n",
    "    # data convert from byte to int\n",
    "    # length of read data is double of chunk.\n",
    "    data_int = struct.unpack(str(2 * CHUNK) + 'B', data)\n",
    "\n",
    "    data_int = np.array(data_int) + 127  # dtype 'b' is integer 0 to 255, and '+127' is needed to set the center line\n",
    "    data_int = data_int[::2]  # get the data every 2 step. skipping data.\n",
    "\n",
    "    line.set_ydata(data_int)\n",
    "    fig.canvas.draw()\n",
    "    fig.canvas.flush_events()"
   ]
  },
  {
   "cell_type": "code",
   "execution_count": null,
   "metadata": {},
   "outputs": [],
   "source": []
  }
 ],
 "metadata": {
  "kernelspec": {
   "display_name": "audio",
   "language": "python",
   "name": "audio"
  },
  "language_info": {
   "codemirror_mode": {
    "name": "ipython",
    "version": 3
   },
   "file_extension": ".py",
   "mimetype": "text/x-python",
   "name": "python",
   "nbconvert_exporter": "python",
   "pygments_lexer": "ipython3",
   "version": "3.7.7"
  }
 },
 "nbformat": 4,
 "nbformat_minor": 1
}
